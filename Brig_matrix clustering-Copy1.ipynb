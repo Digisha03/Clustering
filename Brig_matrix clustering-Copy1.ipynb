{
 "cells": [
  {
   "cell_type": "code",
   "execution_count": 30,
   "metadata": {},
   "outputs": [],
   "source": [
    "%%capture\n",
    "from tqdm import tqdm_notebook as tqdm\n",
    "\n",
    "import pandas as pd\n",
    "\n",
    "import time\n",
    "t1 = time.time()\n",
    "\n",
    "import os\n",
    "import numpy as np\n",
    "\n",
    "from pandas import ExcelWriter\n",
    "from pandas import ExcelFile\n",
    "\n",
    "from datetime import datetime\n",
    "\n",
    "from matplotlib import cm\n",
    "from pylab import rcParams\n",
    "from mpl_toolkits import mplot3d\n",
    "import matplotlib.pyplot as plt\n",
    "\n",
    "import seaborn as sns\n",
    "import matplotlib.pyplot as plt\n",
    "\n",
    "from scipy.interpolate import interp1d\n",
    "import scipy.interpolate as spi\n",
    "from scipy.interpolate import splrep, splev\n",
    "import scipy.cluster.hierarchy as spc\n",
    "\n",
    "import scipy.io\n",
    "import math\n",
    "\n",
    "from sklearn import metrics"
   ]
  },
  {
   "cell_type": "code",
   "execution_count": 31,
   "metadata": {},
   "outputs": [
    {
     "data": {
      "text/html": [
       "<div>\n",
       "<style scoped>\n",
       "    .dataframe tbody tr th:only-of-type {\n",
       "        vertical-align: middle;\n",
       "    }\n",
       "\n",
       "    .dataframe tbody tr th {\n",
       "        vertical-align: top;\n",
       "    }\n",
       "\n",
       "    .dataframe thead th {\n",
       "        text-align: right;\n",
       "    }\n",
       "</style>\n",
       "<table border=\"1\" class=\"dataframe\">\n",
       "  <thead>\n",
       "    <tr style=\"text-align: right;\">\n",
       "      <th></th>\n",
       "      <th>guid</th>\n",
       "      <th>subject_id</th>\n",
       "      <th>question_id</th>\n",
       "      <th>answer</th>\n",
       "      <th>other</th>\n",
       "      <th>is_checked</th>\n",
       "      <th>timestamp</th>\n",
       "    </tr>\n",
       "  </thead>\n",
       "  <tbody>\n",
       "    <tr>\n",
       "      <th>0</th>\n",
       "      <td>473edf673e4c41e6bd329e01fcd0926b</td>\n",
       "      <td>1</td>\n",
       "      <td>1600</td>\n",
       "      <td>4</td>\n",
       "      <td>NaN</td>\n",
       "      <td>NaN</td>\n",
       "      <td>05-31-2018 08:45:51</td>\n",
       "    </tr>\n",
       "    <tr>\n",
       "      <th>1</th>\n",
       "      <td>11f45a3f6a5a456aa6d7e238fcf5801d</td>\n",
       "      <td>1</td>\n",
       "      <td>1601</td>\n",
       "      <td>0</td>\n",
       "      <td>NaN</td>\n",
       "      <td>NaN</td>\n",
       "      <td>05-31-2018 08:46:01</td>\n",
       "    </tr>\n",
       "    <tr>\n",
       "      <th>2</th>\n",
       "      <td>edb12413c16c457581358b8174855950</td>\n",
       "      <td>1</td>\n",
       "      <td>1602</td>\n",
       "      <td>0</td>\n",
       "      <td>NaN</td>\n",
       "      <td>NaN</td>\n",
       "      <td>05-31-2018 08:46:09</td>\n",
       "    </tr>\n",
       "    <tr>\n",
       "      <th>3</th>\n",
       "      <td>6fa93d8d070c4e3a89288038e5e99579</td>\n",
       "      <td>1</td>\n",
       "      <td>1603</td>\n",
       "      <td>0</td>\n",
       "      <td>NaN</td>\n",
       "      <td>NaN</td>\n",
       "      <td>05-31-2018 08:46:17</td>\n",
       "    </tr>\n",
       "    <tr>\n",
       "      <th>4</th>\n",
       "      <td>efec8a7b09a5499a85a4008bc606ef7f</td>\n",
       "      <td>1</td>\n",
       "      <td>1600</td>\n",
       "      <td>6</td>\n",
       "      <td>NaN</td>\n",
       "      <td>NaN</td>\n",
       "      <td>05-31-2018 16:16:58</td>\n",
       "    </tr>\n",
       "  </tbody>\n",
       "</table>\n",
       "</div>"
      ],
      "text/plain": [
       "                               guid  subject_id  question_id  answer  other  \\\n",
       "0  473edf673e4c41e6bd329e01fcd0926b           1         1600       4    NaN   \n",
       "1  11f45a3f6a5a456aa6d7e238fcf5801d           1         1601       0    NaN   \n",
       "2  edb12413c16c457581358b8174855950           1         1602       0    NaN   \n",
       "3  6fa93d8d070c4e3a89288038e5e99579           1         1603       0    NaN   \n",
       "4  efec8a7b09a5499a85a4008bc606ef7f           1         1600       6    NaN   \n",
       "\n",
       "   is_checked            timestamp  \n",
       "0         NaN  05-31-2018 08:45:51  \n",
       "1         NaN  05-31-2018 08:46:01  \n",
       "2         NaN  05-31-2018 08:46:09  \n",
       "3         NaN  05-31-2018 08:46:17  \n",
       "4         NaN  05-31-2018 16:16:58  "
      ]
     },
     "execution_count": 31,
     "metadata": {},
     "output_type": "execute_result"
    }
   ],
   "source": [
    "#loading the files\n",
    "file_dir = os.path.join('/Users/digisha/Downloads/Fatigue_project/data')\n",
    "file_name = os.path.join(file_dir, 'VAS_data_for_Digisha_073119.xlsx')\n",
    "df = pd.read_excel(file_name, sheetname = \"Sheet1\")\n",
    "\n",
    "#df = pd.read_excel(file_with_data, sheetname=sheet_with_data)\n",
    "\n",
    "df.head()"
   ]
  },
  {
   "cell_type": "code",
   "execution_count": 32,
   "metadata": {},
   "outputs": [],
   "source": [
    "#changing datatypes - convering timestamp string to datetime format\n",
    "df['timestamp'] = pd.to_datetime(df['timestamp'])\n",
    "#drop not required coloumn\n",
    "df = df.drop(['guid', 'other', 'is_checked'], axis=1)"
   ]
  },
  {
   "cell_type": "code",
   "execution_count": 33,
   "metadata": {},
   "outputs": [
    {
     "data": {
      "text/html": [
       "<div>\n",
       "<style scoped>\n",
       "    .dataframe tbody tr th:only-of-type {\n",
       "        vertical-align: middle;\n",
       "    }\n",
       "\n",
       "    .dataframe tbody tr th {\n",
       "        vertical-align: top;\n",
       "    }\n",
       "\n",
       "    .dataframe thead th {\n",
       "        text-align: right;\n",
       "    }\n",
       "</style>\n",
       "<table border=\"1\" class=\"dataframe\">\n",
       "  <thead>\n",
       "    <tr style=\"text-align: right;\">\n",
       "      <th></th>\n",
       "      <th>subject_id</th>\n",
       "      <th>question_id</th>\n",
       "      <th>answer</th>\n",
       "      <th>timestamp</th>\n",
       "    </tr>\n",
       "  </thead>\n",
       "  <tbody>\n",
       "    <tr>\n",
       "      <th>0</th>\n",
       "      <td>1</td>\n",
       "      <td>1600</td>\n",
       "      <td>4</td>\n",
       "      <td>2018-05-31 08:45:51</td>\n",
       "    </tr>\n",
       "    <tr>\n",
       "      <th>1</th>\n",
       "      <td>1</td>\n",
       "      <td>1601</td>\n",
       "      <td>0</td>\n",
       "      <td>2018-05-31 08:46:01</td>\n",
       "    </tr>\n",
       "    <tr>\n",
       "      <th>2</th>\n",
       "      <td>1</td>\n",
       "      <td>1602</td>\n",
       "      <td>0</td>\n",
       "      <td>2018-05-31 08:46:09</td>\n",
       "    </tr>\n",
       "    <tr>\n",
       "      <th>3</th>\n",
       "      <td>1</td>\n",
       "      <td>1603</td>\n",
       "      <td>0</td>\n",
       "      <td>2018-05-31 08:46:17</td>\n",
       "    </tr>\n",
       "    <tr>\n",
       "      <th>4</th>\n",
       "      <td>1</td>\n",
       "      <td>1600</td>\n",
       "      <td>6</td>\n",
       "      <td>2018-05-31 16:16:58</td>\n",
       "    </tr>\n",
       "  </tbody>\n",
       "</table>\n",
       "</div>"
      ],
      "text/plain": [
       "   subject_id  question_id  answer           timestamp\n",
       "0           1         1600       4 2018-05-31 08:45:51\n",
       "1           1         1601       0 2018-05-31 08:46:01\n",
       "2           1         1602       0 2018-05-31 08:46:09\n",
       "3           1         1603       0 2018-05-31 08:46:17\n",
       "4           1         1600       6 2018-05-31 16:16:58"
      ]
     },
     "execution_count": 33,
     "metadata": {},
     "output_type": "execute_result"
    }
   ],
   "source": [
    "#only depression fatigue questionnare considererd - dropping th experiment patient\n",
    "df = df.loc[df['subject_id'] != 99998].reset_index(drop=True)\n",
    "df.head()"
   ]
  },
  {
   "cell_type": "code",
   "execution_count": 34,
   "metadata": {},
   "outputs": [],
   "source": [
    "#df.loc[df['subject_id'] == 19]"
   ]
  },
  {
   "cell_type": "code",
   "execution_count": 35,
   "metadata": {},
   "outputs": [
    {
     "data": {
      "text/plain": [
       "'k = df.subject_id.unique()\\nprint(np.sort(k))\\nlen(k)'"
      ]
     },
     "execution_count": 35,
     "metadata": {},
     "output_type": "execute_result"
    }
   ],
   "source": [
    "\"\"\"k = df.subject_id.unique()\n",
    "print(np.sort(k))\n",
    "len(k)\"\"\""
   ]
  },
  {
   "cell_type": "code",
   "execution_count": 36,
   "metadata": {},
   "outputs": [
    {
     "data": {
      "application/vnd.jupyter.widget-view+json": {
       "model_id": "68eaa42cdcda41e39a4866f9c08b7adb",
       "version_major": 2,
       "version_minor": 0
      },
      "text/plain": [
       "HBox(children=(IntProgress(value=0, max=168), HTML(value='')))"
      ]
     },
     "metadata": {},
     "output_type": "display_data"
    },
    {
     "name": "stdout",
     "output_type": "stream",
     "text": [
      "\n",
      "[]\n"
     ]
    }
   ],
   "source": [
    "# to check if there is a patient with less than 2 readings- as for interpolating we need atleast 2 reading \n",
    "#and will have to drop such patients\n",
    "\n",
    "#list of patients id\n",
    "UniqueNames = df.subject_id.unique()\n",
    "\n",
    "#list of question_id\n",
    "qid = df.question_id.unique()\n",
    "\n",
    "#list of patients with less than 2 readings\n",
    "l1 = []\n",
    "\n",
    "with tqdm(total= (len(UniqueNames)*len(qid))) as pbar:\n",
    "    for q in qid:\n",
    "        for pat in UniqueNames:\n",
    "            count = 0\n",
    "            for i in range(0,len(df)):\n",
    "                if q == df['question_id'][i]:\n",
    "                    count += 1\n",
    "            if count <= 1:\n",
    "                print(pat)\n",
    "                l1.append(pat)\n",
    "            \n",
    "            pbar.update(1)\n",
    "print(l1)"
   ]
  },
  {
   "cell_type": "code",
   "execution_count": 37,
   "metadata": {},
   "outputs": [
    {
     "data": {
      "application/vnd.jupyter.widget-view+json": {
       "model_id": "ccffdce67a2947de994537bdf29f7c84",
       "version_major": 2,
       "version_minor": 0
      },
      "text/plain": [
       "HBox(children=(IntProgress(value=0, max=168), HTML(value='')))"
      ]
     },
     "metadata": {},
     "output_type": "display_data"
    },
    {
     "name": "stderr",
     "output_type": "stream",
     "text": [
      "/Applications/anaconda3/lib/python3.7/site-packages/ipykernel_launcher.py:31: SettingWithCopyWarning: \n",
      "A value is trying to be set on a copy of a slice from a DataFrame\n",
      "\n",
      "See the caveats in the documentation: http://pandas.pydata.org/pandas-docs/stable/indexing.html#indexing-view-versus-copy\n",
      "/Applications/anaconda3/lib/python3.7/site-packages/ipykernel_launcher.py:32: SettingWithCopyWarning: \n",
      "A value is trying to be set on a copy of a slice from a DataFrame\n",
      "\n",
      "See the caveats in the documentation: http://pandas.pydata.org/pandas-docs/stable/indexing.html#indexing-view-versus-copy\n",
      "/Applications/anaconda3/lib/python3.7/site-packages/ipykernel_launcher.py:36: SettingWithCopyWarning: \n",
      "A value is trying to be set on a copy of a slice from a DataFrame\n",
      "\n",
      "See the caveats in the documentation: http://pandas.pydata.org/pandas-docs/stable/indexing.html#indexing-view-versus-copy\n",
      "/Applications/anaconda3/lib/python3.7/site-packages/ipykernel_launcher.py:37: SettingWithCopyWarning: \n",
      "A value is trying to be set on a copy of a slice from a DataFrame\n",
      "\n",
      "See the caveats in the documentation: http://pandas.pydata.org/pandas-docs/stable/indexing.html#indexing-view-versus-copy\n"
     ]
    },
    {
     "name": "stdout",
     "output_type": "stream",
     "text": [
      "\n"
     ]
    },
    {
     "data": {
      "text/html": [
       "<div>\n",
       "<style scoped>\n",
       "    .dataframe tbody tr th:only-of-type {\n",
       "        vertical-align: middle;\n",
       "    }\n",
       "\n",
       "    .dataframe tbody tr th {\n",
       "        vertical-align: top;\n",
       "    }\n",
       "\n",
       "    .dataframe thead th {\n",
       "        text-align: right;\n",
       "    }\n",
       "</style>\n",
       "<table border=\"1\" class=\"dataframe\">\n",
       "  <thead>\n",
       "    <tr style=\"text-align: right;\">\n",
       "      <th></th>\n",
       "      <th>subject_id</th>\n",
       "      <th>question_id</th>\n",
       "      <th>answer</th>\n",
       "      <th>timestamp</th>\n",
       "      <th>date</th>\n",
       "      <th>hour</th>\n",
       "      <th>time</th>\n",
       "      <th>day</th>\n",
       "    </tr>\n",
       "  </thead>\n",
       "  <tbody>\n",
       "    <tr>\n",
       "      <th>0</th>\n",
       "      <td>1</td>\n",
       "      <td>1600</td>\n",
       "      <td>4</td>\n",
       "      <td>2018-05-31 08:45:51</td>\n",
       "      <td>2018-05-31</td>\n",
       "      <td>0.0</td>\n",
       "      <td>0.365</td>\n",
       "      <td>0</td>\n",
       "    </tr>\n",
       "    <tr>\n",
       "      <th>1</th>\n",
       "      <td>1</td>\n",
       "      <td>1601</td>\n",
       "      <td>0</td>\n",
       "      <td>2018-05-31 08:46:01</td>\n",
       "      <td>2018-05-31</td>\n",
       "      <td>0.0</td>\n",
       "      <td>0.365</td>\n",
       "      <td>0</td>\n",
       "    </tr>\n",
       "    <tr>\n",
       "      <th>2</th>\n",
       "      <td>1</td>\n",
       "      <td>1602</td>\n",
       "      <td>0</td>\n",
       "      <td>2018-05-31 08:46:09</td>\n",
       "      <td>2018-05-31</td>\n",
       "      <td>0.0</td>\n",
       "      <td>0.365</td>\n",
       "      <td>0</td>\n",
       "    </tr>\n",
       "    <tr>\n",
       "      <th>3</th>\n",
       "      <td>1</td>\n",
       "      <td>1603</td>\n",
       "      <td>0</td>\n",
       "      <td>2018-05-31 08:46:17</td>\n",
       "      <td>2018-05-31</td>\n",
       "      <td>0.0</td>\n",
       "      <td>0.365</td>\n",
       "      <td>0</td>\n",
       "    </tr>\n",
       "    <tr>\n",
       "      <th>4</th>\n",
       "      <td>1</td>\n",
       "      <td>1600</td>\n",
       "      <td>6</td>\n",
       "      <td>2018-05-31 16:16:58</td>\n",
       "      <td>2018-05-31</td>\n",
       "      <td>0.0</td>\n",
       "      <td>0.678</td>\n",
       "      <td>0</td>\n",
       "    </tr>\n",
       "    <tr>\n",
       "      <th>5</th>\n",
       "      <td>1</td>\n",
       "      <td>1601</td>\n",
       "      <td>0</td>\n",
       "      <td>2018-05-31 16:17:04</td>\n",
       "      <td>2018-05-31</td>\n",
       "      <td>0.0</td>\n",
       "      <td>0.679</td>\n",
       "      <td>0</td>\n",
       "    </tr>\n",
       "    <tr>\n",
       "      <th>6</th>\n",
       "      <td>1</td>\n",
       "      <td>1602</td>\n",
       "      <td>1</td>\n",
       "      <td>2018-05-31 16:17:20</td>\n",
       "      <td>2018-05-31</td>\n",
       "      <td>0.0</td>\n",
       "      <td>0.679</td>\n",
       "      <td>0</td>\n",
       "    </tr>\n",
       "  </tbody>\n",
       "</table>\n",
       "</div>"
      ],
      "text/plain": [
       "   subject_id  question_id  answer           timestamp        date  hour  \\\n",
       "0           1         1600       4 2018-05-31 08:45:51  2018-05-31   0.0   \n",
       "1           1         1601       0 2018-05-31 08:46:01  2018-05-31   0.0   \n",
       "2           1         1602       0 2018-05-31 08:46:09  2018-05-31   0.0   \n",
       "3           1         1603       0 2018-05-31 08:46:17  2018-05-31   0.0   \n",
       "4           1         1600       6 2018-05-31 16:16:58  2018-05-31   0.0   \n",
       "5           1         1601       0 2018-05-31 16:17:04  2018-05-31   0.0   \n",
       "6           1         1602       1 2018-05-31 16:17:20  2018-05-31   0.0   \n",
       "\n",
       "    time  day  \n",
       "0  0.365    0  \n",
       "1  0.365    0  \n",
       "2  0.365    0  \n",
       "3  0.365    0  \n",
       "4  0.678    0  \n",
       "5  0.679    0  \n",
       "6  0.679    0  "
      ]
     },
     "execution_count": 37,
     "metadata": {},
     "output_type": "execute_result"
    }
   ],
   "source": [
    "#changing the datatype of anwer column to integer\n",
    "df['answer']=df.answer.astype('int64')\n",
    "\n",
    "# date column added to know if the questionnaire is a part of the same day or the next\n",
    "df['date'] = [d.date() for d in df['timestamp']]\n",
    "\n",
    "#initiating a datetime obeject as zero time for offset time\n",
    "datetime_object = datetime.strptime('00:00:00', '%H:%M:%S')\n",
    "\n",
    "#creating 3 more coloums to get hour, time and day of the data row\n",
    "df['hour'] = 0.00\n",
    "df['time'] = 0\n",
    "df['day'] = 0\n",
    "\n",
    "#changing the datatype of anwer column to float\n",
    "df['time'] = df['time'].astype('float')\n",
    "\n",
    "initial = 0\n",
    "\n",
    "# This may take a while\n",
    "with tqdm(total= (len(UniqueNames)*len(qid))) as pbar:\n",
    "    for q in qid:\n",
    "        for pat in UniqueNames:\n",
    "            count = 0\n",
    "            for i in range(0,len(df)):\n",
    "                if q == df['question_id'][i]:\n",
    "                    if pat == df['subject_id'][i]:\n",
    "                        hour = ((df['timestamp'][i] - datetime_object).seconds/(60*60))\n",
    "                        if count == 0:\n",
    "                            hour = ((df['timestamp'][i] - datetime_object).seconds/(60*60))\n",
    "                            df['time'][i] = hour/24\n",
    "                            df['day'][i] = 0\n",
    "                            count+= 1\n",
    "                            initial = i\n",
    "                        else:\n",
    "                            df['time'][i] = (df['timestamp'][i] - df['timestamp'][initial]).days + (hour/24)\n",
    "                            df['day'][i] = (df['timestamp'][i] - df['timestamp'][initial]).days\n",
    "            pbar.update(1)\n",
    "\n",
    "df['time'] = df['time'].round(3)\n",
    "#df = df.sort_values(['subject_id', 'time'], ascending=[True, True])\n",
    "df.head(7)"
   ]
  },
  {
   "cell_type": "code",
   "execution_count": 59,
   "metadata": {},
   "outputs": [],
   "source": [
    "#new data frames created for each question_id and not required coloumns were dropped\n",
    "mask = (df['question_id'] == 1600)\n",
    "df_00 = df.loc[mask].reset_index(drop=True)\n",
    "df_00 = df_00.drop(['timestamp', 'hour', 'date', \"question_id\"], axis=1)\n",
    "\n",
    "mask = (df['question_id'] == 1601)\n",
    "df_01 = df.loc[mask].reset_index(drop=True)\n",
    "df_01 = df_01.drop(['timestamp', 'hour', 'date', \"question_id\"], axis=1)\n",
    "\n",
    "mask = (df['question_id'] == 1602)\n",
    "df_02 = df.loc[mask].reset_index(drop=True)\n",
    "df_02 = df_02.drop(['timestamp', 'hour', 'date', \"question_id\"], axis=1)\n",
    "\n",
    "mask = (df['question_id'] == 1603)\n",
    "df_03 = df.loc[mask].reset_index(drop=True)\n",
    "df_03 = df_03.drop(['timestamp', 'hour', 'date', \"question_id\"], axis=1)"
   ]
  },
  {
   "cell_type": "code",
   "execution_count": 60,
   "metadata": {},
   "outputs": [],
   "source": [
    "#create a data frame dictionary to store your data frames with keys as subject_id\n",
    "DataFrameDict = {elem : pd.DataFrame for elem in UniqueNames}\n",
    "Dict = {elem : pd.DataFrame for elem in UniqueNames}"
   ]
  },
  {
   "cell_type": "code",
   "execution_count": 61,
   "metadata": {},
   "outputs": [],
   "source": [
    "# Utility Functions - to plot trajectories\n",
    "\n",
    "color_lst = plt.rcParams['axes.prop_cycle'].by_key()['color']\n",
    "color_lst.extend(['firebrick', 'olive', 'indigo', 'khaki', 'teal', 'saddlebrown', \n",
    "                 'skyblue', 'coral', 'darkorange', 'lime', 'darkorchid', 'dimgray'])\n",
    "\n",
    "def plot_cluster(traj_lst, cluster_lst):\n",
    "    '''\n",
    "    Plots given trajectories with a color that is specific for every trajectory's own cluster index.\n",
    "    Outlier trajectories which are specified with -1 in `cluster_lst` are plotted dashed with black color\n",
    "    '''\n",
    "    cluster_count = np.max(cluster_lst) + 1\n",
    "    \n",
    "    for traj, cluster in zip(traj_lst, cluster_lst):\n",
    "        \n",
    "        if cluster == -1:\n",
    "            #pass\n",
    "            # Means it it a noisy trajectory, paint it black\n",
    "            plt.plot(traj[:, 0], traj[:, 1], c='k', linestyle='dashed')\n",
    "        \n",
    "        else:\n",
    "            plt.plot(traj[:, 0], traj[:, 1], c=color_lst[cluster % len(color_lst)])\n",
    "    plt.show()\n",
    "\n",
    "# Some visualization stuff, not so important\n",
    "sns.set()\n",
    "plt.rcParams['figure.figsize'] = (24, 12)"
   ]
  },
  {
   "cell_type": "code",
   "execution_count": 62,
   "metadata": {},
   "outputs": [
    {
     "data": {
      "application/vnd.jupyter.widget-view+json": {
       "model_id": "d18465eb718346888c2d89a6b6437bf3",
       "version_major": 2,
       "version_minor": 0
      },
      "text/plain": [
       "HBox(children=(IntProgress(value=0, max=42), HTML(value='')))"
      ]
     },
     "metadata": {},
     "output_type": "display_data"
    },
    {
     "name": "stdout",
     "output_type": "stream",
     "text": [
      "\n"
     ]
    }
   ],
   "source": [
    "#plotting the interpolated data for fatique\n",
    "\n",
    "for key in DataFrameDict.keys():\n",
    "    DataFrameDict[key] = df_00[:][df_00.subject_id == key]\n",
    "\n",
    "#original data\n",
    "traj_lst1 = []\n",
    "\n",
    "#answer array\n",
    "yt1 = []\n",
    "\n",
    "#interpolated data\n",
    "interpolated_data1 = []\n",
    "\n",
    "with tqdm(total=len(UniqueNames)) as pbar:\n",
    "    for key in UniqueNames:\n",
    "        x = DataFrameDict[key]['time'].values\n",
    "        y = DataFrameDict[key]['answer'].values\n",
    "        np.set_printoptions(formatter={'float_kind':'{:0.3f}'.format})\n",
    "        xnew = np.arange(0,13,1/48)\n",
    "        intfunc = spi.interp1d(x,y,kind = 'linear', fill_value=(y.min(), y.max()), bounds_error=False)\n",
    "        ynew = intfunc(xnew)\n",
    "        xnew = xnew.round(3)\n",
    "        ynew = ynew.round(3)\n",
    "        X = np.array(list(zip(x, y)))\n",
    "        traj_lst1.append(X)\n",
    "        \n",
    "        Xnew = np.array(list(zip(xnew, ynew))) #interpolated data\n",
    "        interpolated_data1.append(Xnew)\n",
    "        \n",
    "        yt1.append(ynew)\n",
    "        pbar.update(1)\n",
    "\n",
    "for traj in traj_lst1:\n",
    "    plt.plot(traj[:, 0], traj[:, 1])\n",
    "    \n",
    "plt.ylim(0, 10)\n",
    "plt.xlim(0, 40)\n",
    "plt.yticks(np.arange(0, 10, 1))\n",
    "plt.xticks(np.arange(0, 40, 1))\n",
    "plt.xlabel('Time (days)')\n",
    "plt.ylabel('Answer')\n",
    "plt.title('1600 - Fatigue')\n",
    "plt.grid(color='grey', linestyle='-', linewidth=0.25)"
   ]
  },
  {
   "cell_type": "code",
   "execution_count": 42,
   "metadata": {},
   "outputs": [
    {
     "data": {
      "application/vnd.jupyter.widget-view+json": {
       "model_id": "516424153804419b9e395f92130d19d4",
       "version_major": 2,
       "version_minor": 0
      },
      "text/plain": [
       "HBox(children=(IntProgress(value=0, max=42), HTML(value='')))"
      ]
     },
     "metadata": {},
     "output_type": "display_data"
    },
    {
     "name": "stdout",
     "output_type": "stream",
     "text": [
      "\n"
     ]
    }
   ],
   "source": [
    "#plotting the interpolated data for Depression\n",
    "for key in DataFrameDict.keys():\n",
    "    DataFrameDict[key] = df_01[:][df_01.subject_id == key]\n",
    "\n",
    "#original data\n",
    "traj_lst2 = []\n",
    "\n",
    "#answer array\n",
    "yt2 = []\n",
    "\n",
    "#interpolated data\n",
    "interpolated_data2 = []\n",
    "\n",
    "with tqdm(total= len(UniqueNames)) as pbar:\n",
    "    for key in UniqueNames:\n",
    "        #print(DataFrameDict[key])\n",
    "        x = DataFrameDict[key]['time'].values\n",
    "        y = DataFrameDict[key]['answer'].values\n",
    "        np.set_printoptions(formatter={'float_kind':'{:0.3f}'.format})\n",
    "        xnew = np.arange(0,13,1/48)\n",
    "        intfunc = spi.interp1d(x,y,kind = 'linear', fill_value=(y.min(), y.max()), bounds_error=False)\n",
    "        ynew = intfunc(xnew)\n",
    "        xnew = xnew.round(3)\n",
    "        ynew = ynew.round(3)\n",
    "        \n",
    "        X = np.array(list(zip(x, y)))\n",
    "        traj_lst2.append(X)\n",
    "        \n",
    "        Xnew = np.array(list(zip(xnew, ynew))) #interpolated data\n",
    "        interpolated_data2.append(Xnew)\n",
    "        \n",
    "        yt2.append(ynew)\n",
    "        pbar.update(1)\n",
    "\n",
    "for traj in traj_lst2:\n",
    "    plt.plot(traj[:, 0], traj[:, 1])\n",
    "    \n",
    "plt.ylim(0, 10)\n",
    "plt.xlim(0, 40)\n",
    "plt.yticks(np.arange(0, 10, 1))\n",
    "plt.xticks(np.arange(0, 40, 1))\n",
    "plt.xlabel('Time (days)')\n",
    "plt.ylabel('Answer')\n",
    "plt.title('1601 - Depression')\n",
    "plt.grid(color='grey', linestyle='-', linewidth=0.25)"
   ]
  },
  {
   "cell_type": "code",
   "execution_count": 63,
   "metadata": {},
   "outputs": [
    {
     "data": {
      "application/vnd.jupyter.widget-view+json": {
       "model_id": "6801b10a940d4fb18b3cf7d01b25f8b5",
       "version_major": 2,
       "version_minor": 0
      },
      "text/plain": [
       "HBox(children=(IntProgress(value=0, max=42), HTML(value='')))"
      ]
     },
     "metadata": {},
     "output_type": "display_data"
    },
    {
     "name": "stdout",
     "output_type": "stream",
     "text": [
      "\n"
     ]
    }
   ],
   "source": [
    "#plotting the interpolated data for Anxiety\n",
    "for key in DataFrameDict.keys():\n",
    "    DataFrameDict[key] = df_02[:][df_02.subject_id == key]\n",
    "\n",
    "#original data\n",
    "traj_lst3 = []\n",
    "\n",
    "#answer array\n",
    "yt3 = []\n",
    "\n",
    "#interpolated data\n",
    "interpolated_data3 = []\n",
    "\n",
    "with tqdm(total= len(UniqueNames)) as pbar:\n",
    "    for key in UniqueNames:\n",
    "        #print(DataFrameDict[key])\n",
    "        x = DataFrameDict[key]['time'].values\n",
    "        y = DataFrameDict[key]['answer'].values\n",
    "        np.set_printoptions(formatter={'float_kind':'{:0.3f}'.format})\n",
    "        xnew = np.arange(0,13,1/48)\n",
    "        intfunc = spi.interp1d(x,y,kind = 'linear', fill_value=(y.min(), y.max()), bounds_error=False)\n",
    "        ynew = intfunc(xnew)\n",
    "        xnew = xnew.round(3)\n",
    "        ynew = ynew.round(3)\n",
    "        X = np.array(list(zip(x, y)))\n",
    "        traj_lst3.append(X)\n",
    "        \n",
    "        Xnew = np.array(list(zip(xnew, ynew))) #interpolated data\n",
    "        interpolated_data3.append(Xnew)\n",
    "        \n",
    "        yt3.append(ynew)\n",
    "        pbar.update(1)\n",
    "\n",
    "for traj in traj_lst3:\n",
    "    plt.plot(traj[:, 0], traj[:, 1])\n",
    "    \n",
    "plt.ylim(0, 10)\n",
    "plt.xlim(0, 40)\n",
    "plt.yticks(np.arange(0, 10, 1))\n",
    "plt.xticks(np.arange(0, 40, 1))\n",
    "plt.xlabel('Time (days)')\n",
    "plt.ylabel('Answer')\n",
    "plt.title('1602 - Anxiety')\n",
    "plt.grid(color='grey', linestyle='-', linewidth=0.25)"
   ]
  },
  {
   "cell_type": "code",
   "execution_count": 44,
   "metadata": {},
   "outputs": [
    {
     "data": {
      "application/vnd.jupyter.widget-view+json": {
       "model_id": "488de363a381428ea425418aa35b5cc2",
       "version_major": 2,
       "version_minor": 0
      },
      "text/plain": [
       "HBox(children=(IntProgress(value=0, max=42), HTML(value='')))"
      ]
     },
     "metadata": {},
     "output_type": "display_data"
    },
    {
     "name": "stdout",
     "output_type": "stream",
     "text": [
      "\n"
     ]
    }
   ],
   "source": [
    "#plotting the interpolated data for Pain\n",
    "for key in DataFrameDict.keys():\n",
    "    DataFrameDict[key] = df_03[:][df_03.subject_id == key]\n",
    "\n",
    "#original data\n",
    "traj_lst4 = []\n",
    "\n",
    "#answer array\n",
    "yt4 = []\n",
    "\n",
    "#interpolated data\n",
    "interpolated_data4 = []\n",
    "\n",
    "with tqdm(total= len(UniqueNames)) as pbar:\n",
    "    for key in UniqueNames:\n",
    "        #print(DataFrameDict[key])\n",
    "        x = DataFrameDict[key]['time'].values\n",
    "        y = DataFrameDict[key]['answer'].values\n",
    "        np.set_printoptions(formatter={'float_kind':'{:0.3f}'.format})\n",
    "        xnew = np.arange(0,13,1/48)\n",
    "        intfunc = spi.interp1d(x,y,kind = 'linear', fill_value=(y.min(), y.max()), bounds_error=False)\n",
    "        ynew = intfunc(xnew)\n",
    "        xnew = xnew.round(3)\n",
    "        ynew = ynew.round(3)\n",
    "        \n",
    "        X = np.array(list(zip(x, y))) #original data\n",
    "        traj_lst4.append(X)\n",
    "    \n",
    "        Xnew = np.array(list(zip(xnew, ynew))) #interpolated data\n",
    "        interpolated_data4.append(Xnew)\n",
    "        \n",
    "        yt4.append(ynew)\n",
    "        pbar.update(1)\n",
    "\n",
    "for traj in traj_lst4:\n",
    "    plt.plot(traj[:, 0], traj[:, 1])\n",
    "    \n",
    "plt.ylim(0, 10)\n",
    "plt.xlim(0, 40)\n",
    "plt.yticks(np.arange(0, 10, 1))\n",
    "plt.xticks(np.arange(0, 40, 1))\n",
    "plt.xlabel('Time (days)')\n",
    "plt.ylabel('Answer')\n",
    "plt.title('1603 - Pain')\n",
    "plt.grid(color='grey', linestyle='-', linewidth=0.25)"
   ]
  },
  {
   "cell_type": "code",
   "execution_count": 64,
   "metadata": {},
   "outputs": [],
   "source": [
    "# array with a matrix(each row indicating trajectory for each question_id - fatigue, depression, anxiety and pain)\n",
    "#for each patient\n",
    "X = np.array(list(zip(yt1, yt2, yt3, yt4)))\n",
    "\n",
    "interpolated_data = np.array(list(zip(interpolated_data1, interpolated_data2, interpolated_data3, interpolated_data4)))"
   ]
  },
  {
   "cell_type": "code",
   "execution_count": 65,
   "metadata": {},
   "outputs": [],
   "source": [
    "#X[1]\n",
    "\n",
    "#interpolated_data"
   ]
  },
  {
   "cell_type": "code",
   "execution_count": 66,
   "metadata": {},
   "outputs": [],
   "source": [
    "#function for calculating correration between matrices of 2 different patients \n",
    "#and pdist(correlation distance using Statistical Process Control python package) \n",
    "\n",
    "def corr_dist(T1, T2):\n",
    "    # pearson Correlation coefficient using matrix correlation formula\n",
    "    numerator = np.mean((T1 - T1.mean()) * (T2 - T2.mean()))\n",
    "    denominator = T1.std() * T2.std()\n",
    "    if denominator == 0:\n",
    "        return 0\n",
    "    else:\n",
    "        correlation = numerator / denominator\n",
    "    #converting correlation to correlation matrix format to calculate pdist\n",
    "    corr_matrix = np.zeros((2, 2))\n",
    "    corr_matrix[0,0] = correlation\n",
    "    corr_matrix[1,1] = correlation\n",
    "    #converting correlation to distance        \n",
    "    pdist = spc.distance.pdist(corr_matrix)\n",
    "    #to bypass NaN data\n",
    "    if math.isnan(pdist):\n",
    "            pdist = 0\n",
    "    if math.isnan(correlation):\n",
    "            correlation = 0.00\n",
    "    return correlation,pdist"
   ]
  },
  {
   "cell_type": "code",
   "execution_count": 67,
   "metadata": {},
   "outputs": [],
   "source": [
    "#calculating a correlation matrix with correlation value between 2 subjects\n",
    "#calculating a distance matrix with correlation-distance value between 2 subjects\n",
    "\n",
    "traj_count = len(UniqueNames)\n",
    "D = np.zeros((traj_count, traj_count))\n",
    "corr_matrix = np.zeros((traj_count, traj_count))\n",
    "\n",
    "cluster = []\n",
    "\n",
    "# This may take a while\n",
    "for i in range(0, traj_count):\n",
    "    for j in range(0, traj_count):\n",
    "        #print(i,j)yt[u]\n",
    "        corr, distance = corr_dist(X[i], X[j])\n",
    "        #print (corr.round(3), distance)\n",
    "        D[i, j] = distance\n",
    "        corr_matrix[i, j] = corr\n",
    "\n",
    "linkage = spc.linkage(D, method='complete')       \n",
    "clust = spc.fcluster(linkage, t= 5, criterion= \"maxclust\")\n",
    "\n",
    "clusters_14day = np.array(list(zip(UniqueNames, clust)))\n",
    "#corr_matrix"
   ]
  },
  {
   "cell_type": "code",
   "execution_count": 68,
   "metadata": {},
   "outputs": [],
   "source": [
    "#heatmap for correlation between patient pairs\n",
    "%matplotlib qt\n",
    "plt.rcParams['figure.figsize'] = (6, 6)\n",
    "xticks = np.arange(42+1)\n",
    "ax = sns.heatmap(\n",
    "    corr_matrix, \n",
    "    vmin=-1, vmax=1, center=0,\n",
    "    cmap=sns.diverging_palette(20, 220, n=20),\n",
    "    square=True\n",
    ")\n",
    "ax.set_xticklabels(\n",
    "    ax.get_xticklabels(),\n",
    "    rotation=70,\n",
    "    horizontalalignment='left'\n",
    ");\n",
    "plt.title('Correlation heatmap between patient pairs')\n",
    "\n",
    "plt.tight_layout()"
   ]
  },
  {
   "cell_type": "code",
   "execution_count": 69,
   "metadata": {},
   "outputs": [
    {
     "name": "stdout",
     "output_type": "stream",
     "text": [
      "[[ 1  1]\n",
      " [ 3  1]\n",
      " [ 2  1]\n",
      " [ 5  2]\n",
      " [ 4  2]\n",
      " [ 6  3]\n",
      " [ 8  2]\n",
      " [ 9  5]\n",
      " [11  1]\n",
      " [12  1]\n",
      " [13  1]\n",
      " [ 7  1]\n",
      " [14  1]\n",
      " [15  3]\n",
      " [16  2]\n",
      " [17  4]\n",
      " [18  5]\n",
      " [19  1]\n",
      " [20  3]\n",
      " [22  5]\n",
      " [23  3]\n",
      " [24  3]\n",
      " [25  3]\n",
      " [26  3]\n",
      " [27  1]\n",
      " [29  1]\n",
      " [30  1]\n",
      " [31  1]\n",
      " [34  5]\n",
      " [35  3]\n",
      " [36  4]\n",
      " [37  1]\n",
      " [40  2]\n",
      " [41  5]\n",
      " [39  3]\n",
      " [43  2]\n",
      " [45  5]\n",
      " [47  1]\n",
      " [48  1]\n",
      " [50  1]\n",
      " [52  1]\n",
      " [53  3]]\n"
     ]
    }
   ],
   "source": [
    "#printing a list of patient_id and cluster_id\n",
    "print(clusters_14day)"
   ]
  },
  {
   "cell_type": "code",
   "execution_count": 70,
   "metadata": {},
   "outputs": [],
   "source": [
    "#cluster_df = pd.DataFrame(columns=['subject_id'=UniqueNames, 'cluster_id' = 99])\n",
    "\n",
    "cluster_df = pd.DataFrame(clusters_14day, columns = ['subject_id', 'cluster_id'])"
   ]
  },
  {
   "cell_type": "code",
   "execution_count": 71,
   "metadata": {},
   "outputs": [
    {
     "data": {
      "text/html": [
       "<div>\n",
       "<style scoped>\n",
       "    .dataframe tbody tr th:only-of-type {\n",
       "        vertical-align: middle;\n",
       "    }\n",
       "\n",
       "    .dataframe tbody tr th {\n",
       "        vertical-align: top;\n",
       "    }\n",
       "\n",
       "    .dataframe thead th {\n",
       "        text-align: right;\n",
       "    }\n",
       "</style>\n",
       "<table border=\"1\" class=\"dataframe\">\n",
       "  <thead>\n",
       "    <tr style=\"text-align: right;\">\n",
       "      <th></th>\n",
       "      <th>subject_id</th>\n",
       "      <th>cluster_id</th>\n",
       "    </tr>\n",
       "  </thead>\n",
       "  <tbody>\n",
       "    <tr>\n",
       "      <th>0</th>\n",
       "      <td>1</td>\n",
       "      <td>1</td>\n",
       "    </tr>\n",
       "    <tr>\n",
       "      <th>1</th>\n",
       "      <td>3</td>\n",
       "      <td>1</td>\n",
       "    </tr>\n",
       "    <tr>\n",
       "      <th>2</th>\n",
       "      <td>2</td>\n",
       "      <td>1</td>\n",
       "    </tr>\n",
       "    <tr>\n",
       "      <th>3</th>\n",
       "      <td>5</td>\n",
       "      <td>2</td>\n",
       "    </tr>\n",
       "    <tr>\n",
       "      <th>4</th>\n",
       "      <td>4</td>\n",
       "      <td>2</td>\n",
       "    </tr>\n",
       "  </tbody>\n",
       "</table>\n",
       "</div>"
      ],
      "text/plain": [
       "   subject_id  cluster_id\n",
       "0           1           1\n",
       "1           3           1\n",
       "2           2           1\n",
       "3           5           2\n",
       "4           4           2"
      ]
     },
     "execution_count": 71,
     "metadata": {},
     "output_type": "execute_result"
    }
   ],
   "source": [
    "cluster_df.head()"
   ]
  },
  {
   "cell_type": "code",
   "execution_count": 72,
   "metadata": {},
   "outputs": [
    {
     "data": {
      "text/plain": [
       "{1: [1, 3, 2, 11, 12, 13, 7, 14, 19, 27, 29, 30, 31, 37, 47, 48, 50, 52],\n",
       " 2: [5, 4, 8, 16, 40, 43],\n",
       " 3: [6, 15, 20, 23, 24, 25, 26, 35, 39, 53],\n",
       " 5: [9, 18, 22, 34, 41, 45],\n",
       " 4: [17, 36]}"
      ]
     },
     "execution_count": 72,
     "metadata": {},
     "output_type": "execute_result"
    }
   ],
   "source": [
    "cluster_names = cluster_df.cluster_id.unique()\n",
    "\n",
    "DataFrameDict = {elem : pd.DataFrame for elem in cluster_names}\n",
    "\n",
    "for key in DataFrameDict.keys():\n",
    "    y = []\n",
    "    for i in range(len(cluster_df)):\n",
    "        if key == cluster_df['cluster_id'][i]:\n",
    "            y.append(cluster_df[\"subject_id\"][i])\n",
    "    DataFrameDict[key] = y\n",
    "\n",
    "DataFrameDict"
   ]
  },
  {
   "cell_type": "code",
   "execution_count": 73,
   "metadata": {},
   "outputs": [],
   "source": [
    "def corr_dist_1d(u, v):\n",
    "    #d = (np.corrcoef(yt[u], yt[v])[0])[1].round(3)\n",
    "    corr_matrix = np.corrcoef(u, v)\n",
    "    corr = corr_matrix[1][0]\n",
    "\n",
    "    if math.isnan(corr):\n",
    "            corr = 0.00\n",
    "            \n",
    "    #corr = corr.astype(float).round(3) #.round(3).astype(float)\n",
    "    #return d\n",
    "    return corr"
   ]
  },
  {
   "cell_type": "code",
   "execution_count": 74,
   "metadata": {},
   "outputs": [],
   "source": [
    "#Cat_id - 0 = fatigue, 1 = depression, 2 = anxiety, 3 = pain\n",
    "def corr_martix(cluster_id,cat_id):\n",
    "    \n",
    "    SubjectData =  np.array(list(zip(UniqueNames,X)))\n",
    "    SubjectInCluster = []\n",
    "    for i in DataFrameDict[cluster_id]:\n",
    "        for j in range(len(SubjectData)):\n",
    "            if i == SubjectData[j][0]:\n",
    "                SubjectInCluster.append(SubjectData[j][1])\n",
    "\n",
    "    traj_count = len(DataFrameDict[cluster_id])\n",
    "    corr_matrix = np.zeros((traj_count, traj_count))\n",
    "    \n",
    "    for i in range(0, traj_count):\n",
    "        for j in range(0, traj_count):\n",
    "            corr = corr_dist_1d(SubjectInCluster[i][cat_id], SubjectInCluster[j][cat_id])\n",
    "            corr_matrix[i, j] = corr\n",
    "    return corr_matrix"
   ]
  },
  {
   "cell_type": "code",
   "execution_count": 75,
   "metadata": {},
   "outputs": [],
   "source": [
    "def heatmap(data,title):\n",
    "    \n",
    "    plt.title(title)\n",
    "    plt.tight_layout()\n",
    "    ax = sns.heatmap(\n",
    "        data, \n",
    "        vmin=-1, vmax=1, center=0,\n",
    "        cmap=sns.diverging_palette(20, 220, n=20),\n",
    "        square=True\n",
    "    )\n",
    "    ax.set_xticklabels(\n",
    "        ax.get_xticklabels(),\n",
    "        rotation=70,\n",
    "        horizontalalignment='left'\n",
    "    );"
   ]
  },
  {
   "cell_type": "code",
   "execution_count": 76,
   "metadata": {},
   "outputs": [],
   "source": [
    "def subject_data_plot(cluster_id,cat_id):\n",
    "    \n",
    "    SubjectData =  np.array(list(zip(UniqueNames,interpolated_data)))\n",
    "    SubjectInCluster = []\n",
    "    for i in DataFrameDict[cluster_id]:\n",
    "        for j in range(len(SubjectData)):\n",
    "            if i == SubjectData[j][0]:\n",
    "                SubjectInCluster.append(SubjectData[j][1][cat_id])\n",
    "                \n",
    "    plt.rcParams['figure.figsize'] = (20, 10) \n",
    "    for traj in SubjectInCluster:\n",
    "            plt.plot(traj[:, 0], traj[:, 1])\n",
    "\n",
    "    plt.ylim(0, 10)\n",
    "    plt.xlim(0, 13)\n",
    "    plt.yticks(np.arange(0, 10, 1))\n",
    "    plt.xticks(np.arange(0, 13, 1))\n",
    "    plt.xlabel('Time (days)')\n",
    "    plt.ylabel('Answer')\n",
    "\n",
    "    plt.grid(color='grey', linestyle='-', linewidth=0.25)"
   ]
  },
  {
   "cell_type": "code",
   "execution_count": 81,
   "metadata": {
    "scrolled": true
   },
   "outputs": [
    {
     "data": {
      "text/plain": [
       "Text(0.5, 1.0, '1600 - Fatigue_cluster1')"
      ]
     },
     "execution_count": 81,
     "metadata": {},
     "output_type": "execute_result"
    }
   ],
   "source": [
    "subject_data_plot(1,0)\n",
    "\n",
    "plt.title('1600 - Fatigue_cluster1')"
   ]
  },
  {
   "cell_type": "code",
   "execution_count": null,
   "metadata": {},
   "outputs": [],
   "source": [
    "#Cat_id - 0 = fatigue, 1 = depression, 2 = anxiety, 3 = pain\n",
    "#cluster - 1-5"
   ]
  },
  {
   "cell_type": "code",
   "execution_count": 85,
   "metadata": {},
   "outputs": [
    {
     "data": {
      "text/plain": [
       "Text(0.5, 1.0, '1600 - Fatigue_cluster2')"
      ]
     },
     "execution_count": 85,
     "metadata": {},
     "output_type": "execute_result"
    }
   ],
   "source": [
    "subject_data_plot(2,0)\n",
    "\n",
    "plt.title('1600 - Fatigue_cluster2')"
   ]
  },
  {
   "cell_type": "code",
   "execution_count": 86,
   "metadata": {},
   "outputs": [
    {
     "data": {
      "text/plain": [
       "Text(0.5, 1.0, '1600 - Fatigue_cluster3')"
      ]
     },
     "execution_count": 86,
     "metadata": {},
     "output_type": "execute_result"
    }
   ],
   "source": [
    "subject_data_plot(3,0)\n",
    "\n",
    "plt.title('1600 - Fatigue_cluster3')"
   ]
  },
  {
   "cell_type": "code",
   "execution_count": 89,
   "metadata": {},
   "outputs": [
    {
     "data": {
      "text/plain": [
       "Text(0.5, 1.0, '1600 - Fatigue_cluster4')"
      ]
     },
     "execution_count": 89,
     "metadata": {},
     "output_type": "execute_result"
    }
   ],
   "source": [
    "subject_data_plot(4,0)\n",
    "\n",
    "plt.title('1600 - Fatigue_cluster4')"
   ]
  },
  {
   "cell_type": "code",
   "execution_count": 88,
   "metadata": {},
   "outputs": [
    {
     "name": "stderr",
     "output_type": "stream",
     "text": [
      "No handles with labels found to put in legend.\n"
     ]
    },
    {
     "data": {
      "text/plain": [
       "<matplotlib.legend.Legend at 0x1a58ebc240>"
      ]
     },
     "execution_count": 88,
     "metadata": {},
     "output_type": "execute_result"
    }
   ],
   "source": [
    "subject_data_plot(5,0)\n",
    "\n",
    "plt.title('1600 - Fatigue_cluster5')\n",
    "plt.legend()"
   ]
  },
  {
   "cell_type": "code",
   "execution_count": null,
   "metadata": {},
   "outputs": [],
   "source": []
  },
  {
   "cell_type": "code",
   "execution_count": null,
   "metadata": {},
   "outputs": [],
   "source": []
  },
  {
   "cell_type": "code",
   "execution_count": null,
   "metadata": {},
   "outputs": [],
   "source": []
  }
 ],
 "metadata": {
  "kernelspec": {
   "display_name": "Python 3",
   "language": "python",
   "name": "python3"
  },
  "language_info": {
   "codemirror_mode": {
    "name": "ipython",
    "version": 3
   },
   "file_extension": ".py",
   "mimetype": "text/x-python",
   "name": "python",
   "nbconvert_exporter": "python",
   "pygments_lexer": "ipython3",
   "version": "3.7.3"
  }
 },
 "nbformat": 4,
 "nbformat_minor": 2
}
